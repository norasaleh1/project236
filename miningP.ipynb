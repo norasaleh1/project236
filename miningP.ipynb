{
  "nbformat": 4,
  "nbformat_minor": 0,
  "metadata": {
    "colab": {
      "provenance": [],
      "authorship_tag": "ABX9TyN+YJohXm1plGcXRvChXTM/",
      "include_colab_link": true
    },
    "kernelspec": {
      "name": "python3",
      "display_name": "Python 3"
    },
    "language_info": {
      "name": "python"
    }
  },
  "cells": [
    {
      "cell_type": "markdown",
      "metadata": {
        "id": "view-in-github",
        "colab_type": "text"
      },
      "source": [
        "<a href=\"https://colab.research.google.com/github/norasaleh1/project236/blob/main/miningP.ipynb\" target=\"_parent\"><img src=\"https://colab.research.google.com/assets/colab-badge.svg\" alt=\"Open In Colab\"/></a>"
      ]
    },
    {
      "cell_type": "code",
      "execution_count": null,
      "metadata": {
        "id": "5h0O03FQ4z7g"
      },
      "outputs": [],
      "source": []
    },
    {
      "cell_type": "markdown",
      "source": [
        "our goal is to predict whether a student is at risk of depression based in factors such as dietary habits, academic pressure, sleep duration and more."
      ],
      "metadata": {
        "id": "dF_qcrxY44IQ"
      }
    },
    {
      "cell_type": "markdown",
      "source": [
        "the link to our dataset's source: https://www.kaggle.com/datasets/ikynahidwin/depression-student-dataset\n"
      ],
      "metadata": {
        "id": "dinUJfmvEXmo"
      }
    },
    {
      "cell_type": "markdown",
      "source": [
        "In our dataset we have 11 different\n",
        "attributes and 503 objects (entries),\n",
        "where type of attributes are:\n",
        "(Gender) binary\n",
        "(Age) numeric\n",
        "(Academic Pressure) numeric\n",
        "(Study satisfaction) numeric\n",
        "(Sleep Duration) numeric ratio\n",
        "(Dietary Habits) nominal\n",
        "(Have you ever had suicidal thoughts ?)binary\n",
        "(Study Hours) numeric\n",
        "(Financial Stress\t)numeric\n",
        "(Family History of Mental Illness\t)binary\n",
        "(Depression)binary\n",
        "and we have the attribute Depression as our class label\n",
        "\n"
      ],
      "metadata": {
        "id": "jwP5Z3jYEqWT"
      }
    }
  ]
}