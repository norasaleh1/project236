{
  "nbformat": 4,
  "nbformat_minor": 0,
  "metadata": {
    "colab": {
      "provenance": [],
      "authorship_tag": "ABX9TyNhYdJ+fkz76Tn1KQqc6NAt",
      "include_colab_link": true
    },
    "kernelspec": {
      "name": "python3",
      "display_name": "Python 3"
    },
    "language_info": {
      "name": "python"
    }
  },
  "cells": [
    {
      "cell_type": "markdown",
      "metadata": {
        "id": "view-in-github",
        "colab_type": "text"
      },
      "source": [
        "<a href=\"https://colab.research.google.com/github/norasaleh1/project236/blob/main/Untitled3.ipynb\" target=\"_parent\"><img src=\"https://colab.research.google.com/assets/colab-badge.svg\" alt=\"Open In Colab\"/></a>"
      ]
    },
    {
      "cell_type": "code",
      "execution_count": null,
      "metadata": {
        "id": "0Txo7RhjdFC2"
      },
      "outputs": [],
      "source": []
    },
    {
      "cell_type": "code",
      "source": [
        "import os\n",
        "print(os.getcwd)\n",
        "\n",
        "import pandas as pd\n",
        "data = pd.read_csv('/content/Depression Student Dataset.csv')\n",
        "print(data)"
      ],
      "metadata": {
        "colab": {
          "base_uri": "https://localhost:8080/"
        },
        "id": "gF3FAoDjq0aN",
        "outputId": "bd7916f5-c503-4bb8-fb5f-a60b8b814151"
      },
      "execution_count": 9,
      "outputs": [
        {
          "output_type": "stream",
          "name": "stdout",
          "text": [
            "<built-in function getcwd>\n",
            "     Gender  Age  Academic Pressure  Study Satisfaction     Sleep Duration  \\\n",
            "0      Male   28                2.0                 4.0          7-8 hours   \n",
            "1      Male   28                4.0                 5.0          5-6 hours   \n",
            "2      Male   25                1.0                 3.0          5-6 hours   \n",
            "3      Male   23                1.0                 4.0  More than 8 hours   \n",
            "4    Female   31                1.0                 5.0  More than 8 hours   \n",
            "..      ...  ...                ...                 ...                ...   \n",
            "497    Male   26                5.0                 2.0  More than 8 hours   \n",
            "498    Male   24                2.0                 1.0  Less than 5 hours   \n",
            "499  Female   23                3.0                 5.0          5-6 hours   \n",
            "500    Male   33                4.0                 4.0  More than 8 hours   \n",
            "501    Male   18                5.0                 3.0  More than 8 hours   \n",
            "\n",
            "    Dietary Habits Have you ever had suicidal thoughts ?  Study Hours  \\\n",
            "0         Moderate                                   Yes            9   \n",
            "1          Healthy                                   Yes            7   \n",
            "2        Unhealthy                                   Yes           10   \n",
            "3        Unhealthy                                   Yes            7   \n",
            "4          Healthy                                   Yes            4   \n",
            "..             ...                                   ...          ...   \n",
            "497      Unhealthy                                    No            8   \n",
            "498      Unhealthy                                   Yes            8   \n",
            "499        Healthy                                    No            1   \n",
            "500        Healthy                                    No            8   \n",
            "501      Unhealthy                                    No            6   \n",
            "\n",
            "     Financial Stress Family History of Mental Illness Depression  \n",
            "0                   2                              Yes         No  \n",
            "1                   1                              Yes         No  \n",
            "2                   4                               No        Yes  \n",
            "3                   2                              Yes         No  \n",
            "4                   2                              Yes         No  \n",
            "..                ...                              ...        ...  \n",
            "497                 3                               No        Yes  \n",
            "498                 5                               No        Yes  \n",
            "499                 5                              Yes         No  \n",
            "500                 1                              Yes         No  \n",
            "501                 2                              Yes        Yes  \n",
            "\n",
            "[502 rows x 11 columns]\n"
          ]
        }
      ]
    },
    {
      "cell_type": "markdown",
      "source": [
        "For Feature Selection, we applied two different techniques based on the data type:\n",
        "\n",
        "Chi-Squared Test was used for numerical features. This test evaluates the statistical relationship between each numerical feature and the target variable (Depression). Features with higher Chi-Squared Scores are more important, meaning they have a stronger influence on whether a student is classified as depressed or not.\n",
        "Correlation Analysis was used for categorical features. Features with a high correlation (above 0.75) were removed to eliminate redundancy. If two features are highly correlated, they provide nearly the same information, so keeping only one of them reduces complexity and improves efficiency."
      ],
      "metadata": {
        "id": "3SOo74-l1MhU"
      }
    },
    {
      "cell_type": "code",
      "source": [
        "import numpy as np\n",
        "from sklearn.preprocessing import LabelEncoder, MinMaxScaler\n",
        "from sklearn.feature_selection import SelectKBest, chi2\n",
        "# Identify numerical and categorical features\n",
        "target_column = \"Depression\"\n",
        "numerical_features = data.select_dtypes(include=['int64', 'float64']).columns.tolist()\n",
        "categorical_features = data.select_dtypes(include=['object']).columns.tolist()\n",
        "\n",
        "# Exclude target column from categorical features\n",
        "if target_column in categorical_features:\n",
        "    categorical_features.remove(target_column)\n",
        "\n",
        "# Apply Label Encoding for categorical features\n",
        "label_encoders = {}\n",
        "for col in categorical_features:\n",
        "    le = LabelEncoder()\n",
        "    data[col] = le.fit_transform(data[col])\n",
        "    label_encoders[col] = le\n",
        "\n"
      ],
      "metadata": {
        "id": "MYWUzKl91yrD"
      },
      "execution_count": 12,
      "outputs": []
    },
    {
      "cell_type": "markdown",
      "source": [
        "Chi-Squared Test for Numerical Features"
      ],
      "metadata": {
        "id": "3Ichxu7f2mmv"
      }
    },
    {
      "cell_type": "code",
      "source": [
        "# Normalize numerical features before Chi-Squared test\n",
        "scaler = MinMaxScaler()\n",
        "scaled_data = pd.DataFrame(scaler.fit_transform(data[numerical_features]), columns=numerical_features)\n",
        "\n",
        "# Apply Chi-Squared test\n",
        "chi2_selector = SelectKBest(chi2, k='all')  # Test all features\n",
        "chi2_selector.fit(scaled_data, data[target_column])\n",
        "\n",
        "# Store Chi-Squared scores\n",
        "chi2_scores = pd.DataFrame({'Feature': numerical_features, 'Chi-Squared Score': chi2_selector.scores_})\n",
        "chi2_scores = chi2_scores.sort_values(by=\"Chi-Squared Score\", ascending=False)\n",
        "\n",
        "# Display Chi-Squared scores\n",
        "print(\"Chi-Squared Scores:\")\n",
        "print(chi2_scores)"
      ],
      "metadata": {
        "colab": {
          "base_uri": "https://localhost:8080/"
        },
        "id": "GLIswk9H23GP",
        "outputId": "42f3c276-8a1f-4fef-fdb3-52ae21bb9a28"
      },
      "execution_count": 15,
      "outputs": [
        {
          "output_type": "stream",
          "name": "stdout",
          "text": [
            "Chi-Squared Scores:\n",
            "                                 Feature  Chi-Squared Score\n",
            "6  Have you ever had suicidal thoughts ?          52.618569\n",
            "2                      Academic Pressure          27.390770\n",
            "8                       Financial Stress          11.623334\n",
            "3                     Study Satisfaction           9.804663\n",
            "5                         Dietary Habits           5.658086\n",
            "1                                    Age           4.235492\n",
            "7                            Study Hours           3.668276\n",
            "9       Family History of Mental Illness           0.833620\n",
            "4                         Sleep Duration           0.370347\n",
            "0                                 Gender           0.235899\n"
          ]
        }
      ]
    },
    {
      "cell_type": "markdown",
      "source": [
        "Correlation-Based Feature Selection for Categorical Features"
      ],
      "metadata": {
        "id": "fUaSBPqG4xgV"
      }
    },
    {
      "cell_type": "code",
      "source": [
        "from sklearn.preprocessing import LabelEncoder\n",
        "\n",
        "# Apply Label Encoding for categorical features\n",
        "categorical_features = data.select_dtypes(include=['object']).columns.tolist()\n",
        "label_encoders = {}\n",
        "for col in categorical_features:\n",
        "    le = LabelEncoder()\n",
        "    data[col] = le.fit_transform(data[col])\n",
        "    label_encoders[col] = le\n",
        "\n",
        "# Compute correlation matrix\n",
        "correlation_matrix = data.corr()\n",
        "\n",
        "# Select features with correlation lower than 0.75\n",
        "threshold = 0.75\n",
        "upper_triangle = correlation_matrix.where(np.triu(np.ones(correlation_matrix.shape), k=1).astype(bool))\n",
        "to_drop = [column for column in upper_triangle.columns if any(upper_triangle[column] > threshold)]\n",
        "\n",
        "# Drop highly correlated features\n",
        "filtered_data = data.drop(columns=to_drop)\n",
        "\n",
        "# Display the selected categorical features\n",
        "print(\"Selected Features After Correlation Analysis:\")\n",
        "print(filtered_data.columns)\n",
        "\n"
      ],
      "metadata": {
        "colab": {
          "base_uri": "https://localhost:8080/"
        },
        "id": "CWpkGXvh44Pa",
        "outputId": "c6bdde37-5740-455d-a355-585db3e877ed"
      },
      "execution_count": 17,
      "outputs": [
        {
          "output_type": "stream",
          "name": "stdout",
          "text": [
            "Selected Features After Correlation Analysis:\n",
            "Index(['Gender', 'Age', 'Academic Pressure', 'Study Satisfaction',\n",
            "       'Sleep Duration', 'Dietary Habits',\n",
            "       'Have you ever had suicidal thoughts ?', 'Study Hours',\n",
            "       'Financial Stress', 'Family History of Mental Illness', 'Depression'],\n",
            "      dtype='object')\n"
          ]
        }
      ]
    },
    {
      "cell_type": "markdown",
      "source": [
        "Feature Selection - Description\n",
        "For numerical features, we applied the Chi-Squared Test to rank features based on their importance in predicting Depression. This ensures that only the most statistically significant features are retained.\n",
        "\n",
        "For categorical features, we performed Correlation Analysis to detect highly correlated variables. If two categorical features had a correlation above 0.75, one of them was removed to avoid redundancy.\n",
        "\n",
        "This Feature Selection approach helps optimize the dataset by keeping only the most informative features, reducing overfitting, and making the dataset more efficient for further analysis.\n",
        "\n"
      ],
      "metadata": {
        "id": "OsRysxwW8vnf"
      }
    },
    {
      "cell_type": "markdown",
      "source": [
        "Normalization\n",
        "\n",
        "For Normalization, Min-Max Scaling was applied to all numerical features. This method scales the values between 0 and 1, ensuring that no single feature dominates due to larger numerical values. Some features, such as \"Age\" and \"Study Hours\", may have different ranges, so Min-Max Scaling helps bring them to a common scale.\n",
        "\n"
      ],
      "metadata": {
        "id": "Z8HfiluS8xu-"
      }
    },
    {
      "cell_type": "code",
      "source": [
        "from sklearn.preprocessing import MinMaxScaler\n",
        "\n",
        "# Apply Min-Max Scaling to numerical features\n",
        "scaler = MinMaxScaler()\n",
        "normalized_data = pd.DataFrame(scaler.fit_transform(filtered_data[numerical_features]),\n",
        "                               columns=numerical_features)\n",
        "\n",
        "# Display Normalized Data\n",
        "print(\"Normalized Data:\")\n",
        "print(normalized_data.head())\n"
      ],
      "metadata": {
        "colab": {
          "base_uri": "https://localhost:8080/"
        },
        "id": "CR2ycoX69Ez9",
        "outputId": "27717ac3-3eae-4bf6-d90e-678013024d5c"
      },
      "execution_count": 19,
      "outputs": [
        {
          "output_type": "stream",
          "name": "stdout",
          "text": [
            "Normalized Data:\n",
            "   Gender     Age  Academic Pressure  Study Satisfaction  Sleep Duration  \\\n",
            "0     1.0  0.6250               0.25                0.75        0.333333   \n",
            "1     1.0  0.6250               0.75                1.00        0.000000   \n",
            "2     1.0  0.4375               0.00                0.50        0.000000   \n",
            "3     1.0  0.3125               0.00                0.75        1.000000   \n",
            "4     0.0  0.8125               0.00                1.00        1.000000   \n",
            "\n",
            "   Dietary Habits  Have you ever had suicidal thoughts ?  Study Hours  \\\n",
            "0             0.5                                    1.0     0.750000   \n",
            "1             0.0                                    1.0     0.583333   \n",
            "2             1.0                                    1.0     0.833333   \n",
            "3             1.0                                    1.0     0.583333   \n",
            "4             0.0                                    1.0     0.333333   \n",
            "\n",
            "   Financial Stress  Family History of Mental Illness  \n",
            "0              0.25                               1.0  \n",
            "1              0.00                               1.0  \n",
            "2              0.75                               0.0  \n",
            "3              0.25                               1.0  \n",
            "4              0.25                               1.0  \n"
          ]
        }
      ]
    },
    {
      "cell_type": "markdown",
      "source": [
        "Normalization - Description\n",
        "To ensure numerical stability and prevent bias due to varying feature scales, Min-Max Scaling was applied. This method transforms each numerical value to a range of [0,1], making all features contribute equally to the analysis.\n",
        "\n",
        "This ensures that numerical differences do not disproportionately affect the results, leading to a more balanced and effective dataset for further analysis or machine learning models"
      ],
      "metadata": {
        "id": "eFjeG3YX974j"
      }
    }
  ]
}