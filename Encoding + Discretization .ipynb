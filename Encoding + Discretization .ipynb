{
  "nbformat": 4,
  "nbformat_minor": 0,
  "metadata": {
    "colab": {
      "provenance": [],
      "authorship_tag": "ABX9TyMEUPPSV7NFEcY3Ltecql9l",
      "include_colab_link": true
    },
    "kernelspec": {
      "name": "python3",
      "display_name": "Python 3"
    },
    "language_info": {
      "name": "python"
    }
  },
  "cells": [
    {
      "cell_type": "markdown",
      "metadata": {
        "id": "view-in-github",
        "colab_type": "text"
      },
      "source": [
        "<a href=\"https://colab.research.google.com/github/norasaleh1/project236/blob/main/Encoding%20%2B%20Discretization%20.ipynb\" target=\"_parent\"><img src=\"https://colab.research.google.com/assets/colab-badge.svg\" alt=\"Open In Colab\"/></a>"
      ]
    },
    {
      "cell_type": "code",
      "execution_count": 32,
      "metadata": {
        "colab": {
          "base_uri": "https://localhost:8080/"
        },
        "id": "hN6IWtBATSiz",
        "outputId": "f8d7284c-34ce-4f3b-85cc-054a57c40520"
      },
      "outputs": [
        {
          "output_type": "stream",
          "name": "stdout",
          "text": [
            "     Gender  Age  Academic Pressure  Study Satisfaction     Sleep Duration  \\\n",
            "0      Male   28                2.0                 4.0          7-8 hours   \n",
            "1      Male   28                4.0                 5.0          5-6 hours   \n",
            "2      Male   25                1.0                 3.0          5-6 hours   \n",
            "3      Male   23                1.0                 4.0  More than 8 hours   \n",
            "4    Female   31                1.0                 5.0  More than 8 hours   \n",
            "..      ...  ...                ...                 ...                ...   \n",
            "497    Male   26                5.0                 2.0  More than 8 hours   \n",
            "498    Male   24                2.0                 1.0  Less than 5 hours   \n",
            "499  Female   23                3.0                 5.0          5-6 hours   \n",
            "500    Male   33                4.0                 4.0  More than 8 hours   \n",
            "501    Male   18                5.0                 3.0  More than 8 hours   \n",
            "\n",
            "    Dietary Habits Have you ever had suicidal thoughts ?  Study Hours  \\\n",
            "0         Moderate                                   Yes            9   \n",
            "1          Healthy                                   Yes            7   \n",
            "2        Unhealthy                                   Yes           10   \n",
            "3        Unhealthy                                   Yes            7   \n",
            "4          Healthy                                   Yes            4   \n",
            "..             ...                                   ...          ...   \n",
            "497      Unhealthy                                    No            8   \n",
            "498      Unhealthy                                   Yes            8   \n",
            "499        Healthy                                    No            1   \n",
            "500        Healthy                                    No            8   \n",
            "501      Unhealthy                                    No            6   \n",
            "\n",
            "     Financial Stress Family History of Mental Illness Depression  \n",
            "0                   2                              Yes         No  \n",
            "1                   1                              Yes         No  \n",
            "2                   4                               No        Yes  \n",
            "3                   2                              Yes         No  \n",
            "4                   2                              Yes         No  \n",
            "..                ...                              ...        ...  \n",
            "497                 3                               No        Yes  \n",
            "498                 5                               No        Yes  \n",
            "499                 5                              Yes         No  \n",
            "500                 1                              Yes         No  \n",
            "501                 2                              Yes        Yes  \n",
            "\n",
            "[502 rows x 11 columns]\n"
          ]
        }
      ],
      "source": [
        "\n",
        "\n",
        "import os\n",
        "os.getcwd()\n",
        "\n",
        "\n",
        "\n",
        "\n",
        "import pandas as pd\n",
        "df = pd.read_csv('/content/Depression.Student.Dataset.csv')\n",
        "print(df)"
      ]
    },
    {
      "cell_type": "code",
      "source": [
        "from sklearn.preprocessing import LabelEncoder\n",
        "from scipy import stats\n",
        "\n",
        "le = LabelEncoder()\n",
        "df['Depression'] = le.fit_transform(df['Depression'])\n",
        "df['Gender'] = le.fit_transform(df['Gender'])\n",
        "df['Sleep Duration'] = le.fit_transform(df['Sleep Duration'])\n",
        "df['Dietary Habits'] = le.fit_transform(df['Dietary Habits'])\n",
        "df['Have you ever had suicidal thoughts ?'] = le.fit_transform(df['Have you ever had suicidal thoughts ?'])\n",
        "df['Family History of Mental Illness'] = le.fit_transform(df['Family History of Mental Illness'])\n",
        "\n",
        "\n",
        "print(df)"
      ],
      "metadata": {
        "colab": {
          "base_uri": "https://localhost:8080/"
        },
        "id": "sJB4nQHLcARi",
        "outputId": "53e27a17-ab49-4430-ed5c-296bb0b9982a"
      },
      "execution_count": 43,
      "outputs": [
        {
          "output_type": "stream",
          "name": "stdout",
          "text": [
            "     Gender  Age  Academic Pressure  Study Satisfaction  Sleep Duration  \\\n",
            "0         1   28                2.0                 4.0               1   \n",
            "1         1   28                4.0                 5.0               0   \n",
            "2         1   25                1.0                 3.0               0   \n",
            "3         1   23                1.0                 4.0               3   \n",
            "4         0   31                1.0                 5.0               3   \n",
            "..      ...  ...                ...                 ...             ...   \n",
            "497       1   26                5.0                 2.0               3   \n",
            "498       1   24                2.0                 1.0               2   \n",
            "499       0   23                3.0                 5.0               0   \n",
            "500       1   33                4.0                 4.0               3   \n",
            "501       1   18                5.0                 3.0               3   \n",
            "\n",
            "     Dietary Habits  Have you ever had suicidal thoughts ?  Study Hours  \\\n",
            "0                 1                                      1            9   \n",
            "1                 0                                      1            7   \n",
            "2                 2                                      1           10   \n",
            "3                 2                                      1            7   \n",
            "4                 0                                      1            4   \n",
            "..              ...                                    ...          ...   \n",
            "497               2                                      0            8   \n",
            "498               2                                      1            8   \n",
            "499               0                                      0            1   \n",
            "500               0                                      0            8   \n",
            "501               2                                      0            6   \n",
            "\n",
            "     Financial Stress  Family History of Mental Illness  Depression  \n",
            "0                   2                                 1           0  \n",
            "1                   1                                 1           0  \n",
            "2                   4                                 0           1  \n",
            "3                   2                                 1           0  \n",
            "4                   2                                 1           0  \n",
            "..                ...                               ...         ...  \n",
            "497                 3                                 0           1  \n",
            "498                 5                                 0           1  \n",
            "499                 5                                 1           0  \n",
            "500                 1                                 1           0  \n",
            "501                 2                                 1           1  \n",
            "\n",
            "[502 rows x 11 columns]\n"
          ]
        }
      ]
    },
    {
      "cell_type": "markdown",
      "source": [
        "In this code, we applied Label Encoding to several categorical columns in the dataset to convert them into numerical values. Machine learning models typically require numerical inputs, so categorical values (like \"Male\"/\"Female\" or \"Yes\"/\"No\") need to be converted into numbers.\n",
        "\n",
        "for multiple columns (gender , Depression , Sleep Duration , Dietary Habits , Have you ever had suicidal thoughts ? , Family History of Mental Illness )  "
      ],
      "metadata": {
        "id": "aoY9MmXXn5_v"
      }
    },
    {
      "cell_type": "code",
      "source": [
        "column_to_discretize = 'Age'\n",
        "num_bins = 3\n",
        "\n",
        "df['discretized_'+column_to_discretize] = pd.cut(df[column_to_discretize], bins=num_bins, labels=False)\n",
        "print(df)\n",
        "print(\"Original DataFrame:\")\n",
        "print(df[['Age', 'discretized_Age']])\n"
      ],
      "metadata": {
        "colab": {
          "base_uri": "https://localhost:8080/"
        },
        "id": "dPWWJ4KWo4VV",
        "outputId": "18da78c9-eba5-4051-c05a-9d6cca7678b2"
      },
      "execution_count": 55,
      "outputs": [
        {
          "output_type": "stream",
          "name": "stdout",
          "text": [
            "     Gender  Age  Academic Pressure  Study Satisfaction  Sleep Duration  \\\n",
            "0         1   28                2.0                 4.0               1   \n",
            "1         1   28                4.0                 5.0               0   \n",
            "2         1   25                1.0                 3.0               0   \n",
            "3         1   23                1.0                 4.0               3   \n",
            "4         0   31                1.0                 5.0               3   \n",
            "..      ...  ...                ...                 ...             ...   \n",
            "497       1   26                5.0                 2.0               3   \n",
            "498       1   24                2.0                 1.0               2   \n",
            "499       0   23                3.0                 5.0               0   \n",
            "500       1   33                4.0                 4.0               3   \n",
            "501       1   18                5.0                 3.0               3   \n",
            "\n",
            "     Dietary Habits  Have you ever had suicidal thoughts ?  Study Hours  \\\n",
            "0                 1                                      1            9   \n",
            "1                 0                                      1            7   \n",
            "2                 2                                      1           10   \n",
            "3                 2                                      1            7   \n",
            "4                 0                                      1            4   \n",
            "..              ...                                    ...          ...   \n",
            "497               2                                      0            8   \n",
            "498               2                                      1            8   \n",
            "499               0                                      0            1   \n",
            "500               0                                      0            8   \n",
            "501               2                                      0            6   \n",
            "\n",
            "     Financial Stress  Family History of Mental Illness  Depression  \\\n",
            "0                   2                                 1           0   \n",
            "1                   1                                 1           0   \n",
            "2                   4                                 0           1   \n",
            "3                   2                                 1           0   \n",
            "4                   2                                 1           0   \n",
            "..                ...                               ...         ...   \n",
            "497                 3                                 0           1   \n",
            "498                 5                                 0           1   \n",
            "499                 5                                 1           0   \n",
            "500                 1                                 1           0   \n",
            "501                 2                                 1           1   \n",
            "\n",
            "     discretized  discretized_  discretized_Age  \n",
            "0              1             1                1  \n",
            "1              1             1                1  \n",
            "2              1             1                1  \n",
            "3              0             0                0  \n",
            "4              2             2                2  \n",
            "..           ...           ...              ...  \n",
            "497            1             1                1  \n",
            "498            1             1                1  \n",
            "499            0             0                0  \n",
            "500            2             2                2  \n",
            "501            0             0                0  \n",
            "\n",
            "[502 rows x 14 columns]\n",
            "Original DataFrame:\n",
            "     Age  discretized_Age\n",
            "0     28                1\n",
            "1     28                1\n",
            "2     25                1\n",
            "3     23                0\n",
            "4     31                2\n",
            "..   ...              ...\n",
            "497   26                1\n",
            "498   24                1\n",
            "499   23                0\n",
            "500   33                2\n",
            "501   18                0\n",
            "\n",
            "[502 rows x 2 columns]\n"
          ]
        }
      ]
    },
    {
      "cell_type": "markdown",
      "source": [
        "In this code, we performed discretization (also known as binning) on the 'Age' column to convert continuous numerical values into categorical bins. This helps in grouping similar values together, making data analysis and modeling more interpretable, especially for algorithms that work better with discrete values."
      ],
      "metadata": {
        "id": "cHmjPCUIrVAw"
      }
    }
  ]
}