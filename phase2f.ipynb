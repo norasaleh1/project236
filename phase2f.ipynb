{
  "nbformat": 4,
  "nbformat_minor": 0,
  "metadata": {
    "colab": {
      "provenance": [],
      "toc_visible": true,
      "include_colab_link": true
    },
    "kernelspec": {
      "name": "python3",
      "display_name": "Python 3"
    },
    "language_info": {
      "name": "python"
    }
  },
  "cells": [
    {
      "cell_type": "markdown",
      "metadata": {
        "id": "view-in-github",
        "colab_type": "text"
      },
      "source": [
        "<a href=\"https://colab.research.google.com/github/norasaleh1/project236/blob/main/phase2f.ipynb\" target=\"_parent\"><img src=\"https://colab.research.google.com/assets/colab-badge.svg\" alt=\"Open In Colab\"/></a>"
      ]
    },
    {
      "cell_type": "code",
      "source": [],
      "metadata": {
        "id": "FqHbkIuTCfCR"
      },
      "execution_count": null,
      "outputs": []
    },
    {
      "cell_type": "markdown",
      "source": [
        "our goal is to predict whether a student is at risk of depression based in factors such as dietary habits, academic pressure, sleep duration and more."
      ],
      "metadata": {
        "id": "dF_qcrxY44IQ"
      }
    },
    {
      "cell_type": "markdown",
      "source": [
        "the link to our dataset's source: https://www.kaggle.com/datasets/ikynahidwin/depression-student-dataset\n"
      ],
      "metadata": {
        "id": "dinUJfmvEXmo"
      }
    },
    {
      "cell_type": "markdown",
      "source": [
        "In our dataset we have 11 different\n",
        "attributes and 502 objects (entries),\n",
        "where type of attributes are:\n",
        "(Gender) binary\n",
        "(Age) numeric\n",
        "(Academic Pressure) numeric\n",
        "(Study satisfaction) numeric\n",
        "(Sleep Duration) nominal\n",
        "(Dietary Habits) nominal\n",
        "(Have you ever had suicidal thoughts ?)binary\n",
        "(Study Hours) numeric\n",
        "(Financial Stress\t)numeric\n",
        "(Family History of Mental Illness\t)binary\n",
        "(Depression)binary\n",
        "and we have the attribute Depression as our class label\n",
        "\n"
      ],
      "metadata": {
        "id": "jwP5Z3jYEqWT"
      }
    },
    {
      "cell_type": "code",
      "source": [
        "\n",
        "import os\n",
        "os.getcwd()\n",
        "\n"
      ],
      "metadata": {
        "colab": {
          "base_uri": "https://localhost:8080/",
          "height": 35
        },
        "id": "AS70bI1n2AgW",
        "outputId": "af5c3c9f-1ac2-444b-9afb-1dd3da732550"
      },
      "execution_count": null,
      "outputs": [
        {
          "output_type": "execute_result",
          "data": {
            "text/plain": [
              "'/content'"
            ],
            "application/vnd.google.colaboratory.intrinsic+json": {
              "type": "string"
            }
          },
          "metadata": {},
          "execution_count": 2
        }
      ]
    },
    {
      "cell_type": "code",
      "source": [
        "import pandas as pd\n",
        "df = pd.read_csv('Depression Student Dataset.csv')\n",
        "print(df)"
      ],
      "metadata": {
        "colab": {
          "base_uri": "https://localhost:8080/"
        },
        "id": "0_fy2dzk6f3F",
        "outputId": "129a19a2-7ac0-4702-e947-dd4d0d4d4e04"
      },
      "execution_count": null,
      "outputs": [
        {
          "output_type": "stream",
          "name": "stdout",
          "text": [
            "     Gender  Age  Academic Pressure  Study Satisfaction     Sleep Duration  \\\n",
            "0      Male   28                2.0                 4.0          7-8 hours   \n",
            "1      Male   28                4.0                 5.0          5-6 hours   \n",
            "2      Male   25                1.0                 3.0          5-6 hours   \n",
            "3      Male   23                1.0                 4.0  More than 8 hours   \n",
            "4    Female   31                1.0                 5.0  More than 8 hours   \n",
            "..      ...  ...                ...                 ...                ...   \n",
            "497    Male   26                5.0                 2.0  More than 8 hours   \n",
            "498    Male   24                2.0                 1.0  Less than 5 hours   \n",
            "499  Female   23                3.0                 5.0          5-6 hours   \n",
            "500    Male   33                4.0                 4.0  More than 8 hours   \n",
            "501    Male   18                5.0                 3.0  More than 8 hours   \n",
            "\n",
            "    Dietary Habits Have you ever had suicidal thoughts ?  Study Hours  \\\n",
            "0         Moderate                                   Yes            9   \n",
            "1          Healthy                                   Yes            7   \n",
            "2        Unhealthy                                   Yes           10   \n",
            "3        Unhealthy                                   Yes            7   \n",
            "4          Healthy                                   Yes            4   \n",
            "..             ...                                   ...          ...   \n",
            "497      Unhealthy                                    No            8   \n",
            "498      Unhealthy                                   Yes            8   \n",
            "499        Healthy                                    No            1   \n",
            "500        Healthy                                    No            8   \n",
            "501      Unhealthy                                    No            6   \n",
            "\n",
            "     Financial Stress Family History of Mental Illness Depression  \n",
            "0                   2                              Yes         No  \n",
            "1                   1                              Yes         No  \n",
            "2                   4                               No        Yes  \n",
            "3                   2                              Yes         No  \n",
            "4                   2                              Yes         No  \n",
            "..                ...                              ...        ...  \n",
            "497                 3                               No        Yes  \n",
            "498                 5                               No        Yes  \n",
            "499                 5                              Yes         No  \n",
            "500                 1                              Yes         No  \n",
            "501                 2                              Yes        Yes  \n",
            "\n",
            "[502 rows x 11 columns]\n"
          ]
        }
      ]
    },
    {
      "cell_type": "markdown",
      "source": [
        "### **phase2**"
      ],
      "metadata": {
        "id": "C2nqEIunVN9m"
      }
    },
    {
      "cell_type": "markdown",
      "source": [
        "we took a sample of 5 Student"
      ],
      "metadata": {
        "id": "NZqOXRc0VxfT"
      }
    },
    {
      "cell_type": "code",
      "source": [
        "print(\"First 5 rows of the dataset:\")\n",
        "print(df.head())\n"
      ],
      "metadata": {
        "colab": {
          "base_uri": "https://localhost:8080/"
        },
        "id": "kodHSytobzgP",
        "outputId": "5ec1719a-26e5-478b-cd6b-90d1e5022bbd"
      },
      "execution_count": null,
      "outputs": [
        {
          "output_type": "stream",
          "name": "stdout",
          "text": [
            "First 5 rows of the dataset:\n",
            "   Gender  Age  Academic Pressure  Study Satisfaction     Sleep Duration  \\\n",
            "0    Male   28                2.0                 4.0          7-8 hours   \n",
            "1    Male   28                4.0                 5.0          5-6 hours   \n",
            "2    Male   25                1.0                 3.0          5-6 hours   \n",
            "3    Male   23                1.0                 4.0  More than 8 hours   \n",
            "4  Female   31                1.0                 5.0  More than 8 hours   \n",
            "\n",
            "  Dietary Habits Have you ever had suicidal thoughts ?  Study Hours  \\\n",
            "0       Moderate                                   Yes            9   \n",
            "1        Healthy                                   Yes            7   \n",
            "2      Unhealthy                                   Yes           10   \n",
            "3      Unhealthy                                   Yes            7   \n",
            "4        Healthy                                   Yes            4   \n",
            "\n",
            "   Financial Stress Family History of Mental Illness Depression  \n",
            "0                 2                              Yes         No  \n",
            "1                 1                              Yes         No  \n",
            "2                 4                               No        Yes  \n",
            "3                 2                              Yes         No  \n",
            "4                 2                              Yes         No  \n"
          ]
        }
      ]
    },
    {
      "cell_type": "code",
      "source": [
        "print(\"\\nGeneral information about the dataset:\")\n",
        "print(df.info())\n"
      ],
      "metadata": {
        "colab": {
          "base_uri": "https://localhost:8080/"
        },
        "id": "CkgeiYXlcktt",
        "outputId": "0c36a139-7b37-46c6-af97-b912c7a91771"
      },
      "execution_count": null,
      "outputs": [
        {
          "output_type": "stream",
          "name": "stdout",
          "text": [
            "\n",
            "General information about the dataset:\n",
            "<class 'pandas.core.frame.DataFrame'>\n",
            "RangeIndex: 502 entries, 0 to 501\n",
            "Data columns (total 11 columns):\n",
            " #   Column                                 Non-Null Count  Dtype  \n",
            "---  ------                                 --------------  -----  \n",
            " 0   Gender                                 502 non-null    object \n",
            " 1   Age                                    502 non-null    int64  \n",
            " 2   Academic Pressure                      502 non-null    float64\n",
            " 3   Study Satisfaction                     502 non-null    float64\n",
            " 4   Sleep Duration                         502 non-null    object \n",
            " 5   Dietary Habits                         502 non-null    object \n",
            " 6   Have you ever had suicidal thoughts ?  502 non-null    object \n",
            " 7   Study Hours                            502 non-null    int64  \n",
            " 8   Financial Stress                       502 non-null    int64  \n",
            " 9   Family History of Mental Illness       502 non-null    object \n",
            " 10  Depression                             502 non-null    object \n",
            "dtypes: float64(2), int64(3), object(6)\n",
            "memory usage: 43.3+ KB\n",
            "None\n"
          ]
        }
      ]
    },
    {
      "cell_type": "markdown",
      "source": [
        "we use df.describe() to print the summery state for each colum"
      ],
      "metadata": {
        "id": "_Pi5wVXwXagB"
      }
    },
    {
      "cell_type": "code",
      "source": [
        "print(\"\\nDescriptive statistics of the dataset:\")\n",
        "print(df.describe())"
      ],
      "metadata": {
        "colab": {
          "base_uri": "https://localhost:8080/"
        },
        "id": "2zN3-mnjc3TL",
        "outputId": "738f9354-54da-4257-a5c5-254d162971c2"
      },
      "execution_count": null,
      "outputs": [
        {
          "output_type": "stream",
          "name": "stdout",
          "text": [
            "\n",
            "Descriptive statistics of the dataset:\n",
            "              Age  Academic Pressure  Study Satisfaction  Study Hours  \\\n",
            "count  502.000000         502.000000          502.000000   502.000000   \n",
            "mean    26.241036           3.003984            3.075697     6.404382   \n",
            "std      4.896501           1.390007            1.373490     3.742434   \n",
            "min     18.000000           1.000000            1.000000     0.000000   \n",
            "25%     22.000000           2.000000            2.000000     3.000000   \n",
            "50%     26.500000           3.000000            3.000000     7.000000   \n",
            "75%     30.000000           4.000000            4.000000    10.000000   \n",
            "max     34.000000           5.000000            5.000000    12.000000   \n",
            "\n",
            "       Financial Stress  \n",
            "count        502.000000  \n",
            "mean           2.928287  \n",
            "std            1.425053  \n",
            "min            1.000000  \n",
            "25%            2.000000  \n",
            "50%            3.000000  \n",
            "75%            4.000000  \n",
            "max            5.000000  \n"
          ]
        }
      ]
    },
    {
      "cell_type": "code",
      "source": [
        "plt.figure(figsize=(15, 5))"
      ],
      "metadata": {
        "colab": {
          "base_uri": "https://localhost:8080/",
          "height": 51
        },
        "id": "Eb-e8sJYc96E",
        "outputId": "18167823-9bdc-4ac9-ac14-2250c0c49f54"
      },
      "execution_count": null,
      "outputs": [
        {
          "output_type": "execute_result",
          "data": {
            "text/plain": [
              "<Figure size 1500x500 with 0 Axes>"
            ]
          },
          "metadata": {},
          "execution_count": 7
        },
        {
          "output_type": "display_data",
          "data": {
            "text/plain": [
              "<Figure size 1500x500 with 0 Axes>"
            ]
          },
          "metadata": {}
        }
      ]
    },
    {
      "cell_type": "code",
      "source": [
        "class_counts = df['Depression'].value_counts()\n",
        "class_percentage = df['Depression'].value_counts(normalize=True) * 100\n",
        "\n",
        "print(\"\\nClass Imbalance Analysis:\")\n",
        "print(f\"Number of cases in each class:\\n{class_counts}\")\n",
        "print(f\"\\nPercentage of each class:\\n{class_percentage.round(2)}\")"
      ],
      "metadata": {
        "colab": {
          "base_uri": "https://localhost:8080/"
        },
        "id": "i84izFfwdcwN",
        "outputId": "652fd57e-ddac-4a66-a1fb-bf8fd5b7fbb6"
      },
      "execution_count": null,
      "outputs": [
        {
          "output_type": "stream",
          "name": "stdout",
          "text": [
            "\n",
            "Class Imbalance Analysis:\n",
            "Number of cases in each class:\n",
            "Depression\n",
            "Yes    252\n",
            "No     250\n",
            "Name: count, dtype: int64\n",
            "\n",
            "Percentage of each class:\n",
            "Depression\n",
            "Yes    50.2\n",
            "No     49.8\n",
            "Name: proportion, dtype: float64\n"
          ]
        }
      ]
    },
    {
      "cell_type": "markdown",
      "source": [
        "show the missing value"
      ],
      "metadata": {
        "id": "JO4eia3TWbiR"
      }
    },
    {
      "cell_type": "code",
      "source": [
        "print(\"\\nNumber of missing values in each column:\")\n",
        "print(df.isnull().sum())\n"
      ],
      "metadata": {
        "colab": {
          "base_uri": "https://localhost:8080/"
        },
        "id": "2rhtTx11d8X3",
        "outputId": "3281cf19-1def-48bd-e91a-ae3f1c186a27"
      },
      "execution_count": null,
      "outputs": [
        {
          "output_type": "stream",
          "name": "stdout",
          "text": [
            "\n",
            "Number of missing values in each column:\n",
            "Gender                                   0\n",
            "Age                                      0\n",
            "Academic Pressure                        0\n",
            "Study Satisfaction                       0\n",
            "Sleep Duration                           0\n",
            "Dietary Habits                           0\n",
            "Have you ever had suicidal thoughts ?    0\n",
            "Study Hours                              0\n",
            "Financial Stress                         0\n",
            "Family History of Mental Illness         0\n",
            "Depression                               0\n",
            "dtype: int64\n"
          ]
        }
      ]
    },
    {
      "cell_type": "markdown",
      "source": [
        "Variance"
      ],
      "metadata": {
        "id": "vrHao5_lXiXd"
      }
    },
    {
      "cell_type": "code",
      "source": [
        "variance = df.var(numeric_only = True)\n",
        "print(variance)"
      ],
      "metadata": {
        "colab": {
          "base_uri": "https://localhost:8080/"
        },
        "id": "5v_0L2aWClrS",
        "outputId": "776745ca-7fc6-41cd-d3c1-9753b3abdafe"
      },
      "execution_count": null,
      "outputs": [
        {
          "output_type": "stream",
          "name": "stdout",
          "text": [
            "Age                   23.975718\n",
            "Academic Pressure      1.932120\n",
            "Study Satisfaction     1.886474\n",
            "Study Hours           14.005809\n",
            "Financial Stress       2.030775\n",
            "dtype: float64\n"
          ]
        }
      ]
    },
    {
      "cell_type": "code",
      "source": [
        "import matplotlib.pyplot as plt\n",
        "import seaborn as sns\n",
        "\n",
        "# Histogram for numerical columns\n",
        "df.hist(figsize=(12, 8))\n",
        "plt.show()"
      ],
      "metadata": {
        "colab": {
          "base_uri": "https://localhost:8080/",
          "height": 699
        },
        "id": "AKbbSUHiDKnS",
        "outputId": "35d07c71-450f-4253-c1e5-190c5caed17e"
      },
      "execution_count": null,
      "outputs": [
        {
          "output_type": "display_data",
          "data": {
            "text/plain": [
              "<Figure size 1200x800 with 6 Axes>"
            ],
            "image/png": "[encoded data removed]"
          },
          "metadata": {}
        }
      ]
    },
    {
      "cell_type": "markdown",
      "source": [
        "The code creates a set of histograms for all numerical data in the dataset. Each histogram shows how the values in each numerical column are distributed. For example, it shows how many people have a certain level of academic pressure or depression. The size of the plot is set to be large (12x8 inches) so that the histograms are easy to read. When you run the code, the histograms will appear on the screen, helping you see how the numbers are spread out for each variable."
      ],
      "metadata": {
        "id": "CYBWvbiQ3XkD"
      }
    },
    {
      "cell_type": "code",
      "source": [
        "import matplotlib.pyplot as plt\n",
        "\n",
        "# Count occurrences of each category\n",
        "depression_counts = df['Depression'].value_counts()\n",
        "\n",
        "# Define labels and colors\n",
        "labels = ['No Depression', 'Depression']\n",
        "colors = ['lightblue', 'salmon']\n",
        "\n",
        "# Create pie chart\n",
        "plt.figure(figsize=(6,6))\n",
        "plt.pie(depression_counts, labels=labels, autopct='%1.1f%%', colors=colors, startangle=140)\n",
        "plt.title(\"Depression Distribution Among Students\")\n",
        "plt.show()\n"
      ],
      "metadata": {
        "colab": {
          "base_uri": "https://localhost:8080/",
          "height": 521
        },
        "id": "9aWFgHryZmu-",
        "outputId": "2f2f13b7-3b07-43d5-ea96-ef1bb39ab961"
      },
      "execution_count": null,
      "outputs": [
        {
          "output_type": "display_data",
          "data": {
            "text/plain": [
              "<Figure size 600x600 with 1 Axes>"
            ],
            "image/png": "[encoded data removed]"
          },
          "metadata": {}
        }
      ]
    },
    {
      "cell_type": "code",
      "source": [
        "plt.figure(figsize=(15, 5))\n",
        "\n",
        "# Gender distribution\n",
        "plt.subplot(1, 3, 1)\n",
        "sns.countplot(x='Gender', hue='Gender', data=df, palette='Set2', legend=False)\n",
        "plt.title('Gender Distribution')\n",
        "plt.xlabel('Gender')\n",
        "plt.ylabel('Count')"
      ],
      "metadata": {
        "id": "NGrppmSshfwu",
        "outputId": "bc3cca8f-c90c-4406-b485-6778fcd55c97",
        "colab": {
          "base_uri": "https://localhost:8080/",
          "height": 504
        }
      },
      "execution_count": null,
      "outputs": [
        {
          "output_type": "execute_result",
          "data": {
            "text/plain": [
              "Text(0, 0.5, 'Count')"
            ]
          },
          "metadata": {},
          "execution_count": 9
        },
        {
          "output_type": "display_data",
          "data": {
            "text/plain": [
              "<Figure size 1500x500 with 1 Axes>"
            ],
            "image/png": "[encoded data removed]"
          },
          "metadata": {}
        }
      ]
    },
    {
      "cell_type": "markdown",
      "source": [
        "The code creates a bar chart that shows the distribution of Gender in the dataset, with separate bars for male and female. It counts how many people are in each gender category and uses different colors to visually distinguish between them. The title and labels make it clear that the plot represents the gender distribution, and the height of each bar indicates the count of people in each gender group.\n",
        "\n",
        "\n",
        "\n",
        "\n",
        "\n",
        "\n",
        "\n"
      ],
      "metadata": {
        "id": "obWhHs-12YNg"
      }
    },
    {
      "cell_type": "code",
      "source": [
        "plt.figure(figsize=(8, 5))\n",
        "sns.barplot(\n",
        "    x=class_counts.index,\n",
        "    y=class_counts.values,\n",
        "    hue=class_counts.index,  # Added `hue`\n",
        "    palette='Set2',\n",
        "    legend=False  # Disable legend\n",
        ")\n",
        "plt.title('Depression Class Distribution')\n",
        "plt.xlabel('Depression Diagnosis')\n",
        "plt.ylabel('Count')\n",
        "plt.show()\n"
      ],
      "metadata": {
        "id": "nofRHjAii8HU",
        "outputId": "b85d8469-3034-4c3e-c377-01a58c0ed7af",
        "colab": {
          "base_uri": "https://localhost:8080/",
          "height": 487
        }
      },
      "execution_count": null,
      "outputs": [
        {
          "output_type": "display_data",
          "data": {
            "text/plain": [
              "<Figure size 800x500 with 1 Axes>"
            ],
            "image/png": "[encoded data removed]"
          },
          "metadata": {}
        }
      ]
    },
    {
      "cell_type": "markdown",
      "source": [
        "The code creates a bar chart that shows the distribution of depression categories in the dataset. The bars represent the number of individuals diagnosed with depression or not diagnosed. Each bar is colored differently based on the depression category, and the height of the bar indicates the count of people in each category. The title and labels make it clear that the plot represents the depression diagnosis distribution, with the x-axis showing the categories (diagnosed vs. not diagnosed) and the y-axis showing the count for each category.\n",
        "\n",
        "\n",
        "\n",
        "\n",
        "\n",
        "\n",
        "\n"
      ],
      "metadata": {
        "id": "U4TZtojv2oSu"
      }
    },
    {
      "cell_type": "code",
      "source": [
        "plt.figure(figsize=(15, 5))\n",
        "\n",
        "\n",
        "plt.subplot(1, 3, 1)\n",
        "sns.countplot(x='Gender', hue='Gender', data=df, palette='Set2', legend=False)\n",
        "plt.title('Distribution of Gender')\n",
        "plt.xlabel('Gender')\n",
        "plt.ylabel('Count')"
      ],
      "metadata": {
        "id": "lcK9QXERlGL_",
        "outputId": "51f952b5-bd25-4f37-9c85-5f2044fa7a18",
        "colab": {
          "base_uri": "https://localhost:8080/",
          "height": 504
        }
      },
      "execution_count": null,
      "outputs": [
        {
          "output_type": "execute_result",
          "data": {
            "text/plain": [
              "Text(0, 0.5, 'Count')"
            ]
          },
          "metadata": {},
          "execution_count": 11
        },
        {
          "output_type": "display_data",
          "data": {
            "text/plain": [
              "<Figure size 1500x500 with 1 Axes>"
            ],
            "image/png": "[encoded data removed]"
          },
          "metadata": {}
        }
      ]
    },
    {
      "cell_type": "markdown",
      "source": [
        "The code creates a count plot showing the distribution of gender in the dataset. It displays two bars, one for males and one for females, with the height of each bar representing the number of individuals in each gender category. The bars are color-coded using the Set2 palette, and the legend is hidden. The title and labels make it clear that the plot represents the gender distribution, with the x-axis showing the gender categories and the y-axis showing the count of individuals in each category."
      ],
      "metadata": {
        "id": "QB3En1ce2zR2"
      }
    },
    {
      "cell_type": "code",
      "source": [
        "\n",
        "plt.subplot(1, 3, 2)\n",
        "sns.countplot(x='Have you ever had suicidal thoughts ?',\n",
        "              hue='Have you ever had suicidal thoughts ?',\n",
        "              data=df, palette='Set2', legend=False)\n",
        "plt.title('Distribution of Suicidal Thoughts')\n",
        "plt.xlabel('Suicidal Thoughts')\n",
        "plt.ylabel('Count')"
      ],
      "metadata": {
        "id": "zMnMX17YlYD1",
        "outputId": "99bc03d8-baa7-4d63-c6cc-d9af6fe45332",
        "colab": {
          "base_uri": "https://localhost:8080/",
          "height": 489
        }
      },
      "execution_count": null,
      "outputs": [
        {
          "output_type": "execute_result",
          "data": {
            "text/plain": [
              "Text(0, 0.5, 'Count')"
            ]
          },
          "metadata": {},
          "execution_count": 12
        },
        {
          "output_type": "display_data",
          "data": {
            "text/plain": [
              "<Figure size 640x480 with 1 Axes>"
            ],
            "image/png": "[encoded data removed]"
          },
          "metadata": {}
        }
      ]
    },
    {
      "cell_type": "markdown",
      "source": [
        "The code creates a count plot showing the distribution of suicidal thoughts in the dataset. It displays bars representing individuals who have or haven't experienced suicidal thoughts, with the height of each bar showing the count of individuals in each category. The bars are color-coded using the Set2 palette, and the legend is hidden. The title and labels make it clear that the plot represents the distribution of suicidal thoughts, with the x-axis showing the two categories (Yes or No) and the y-axis showing the count of individuals in each category.\n",
        "\n",
        "\n",
        "\n",
        "\n",
        "\n",
        "\n",
        "\n"
      ],
      "metadata": {
        "id": "f23OWxdA28YM"
      }
    },
    {
      "cell_type": "code",
      "source": [
        "\n",
        "plt.subplot(1, 3, 3)\n",
        "sns.countplot(x='Depression', hue='Depression', data=df, palette='Set2', legend=False)\n",
        "plt.title('Distribution of Depression')\n",
        "plt.xlabel('Depression Diagnosis')\n",
        "plt.ylabel('Count')\n",
        "\n",
        "plt.tight_layout()\n",
        "plt.show()"
      ],
      "metadata": {
        "id": "PFoPrNsylgB4",
        "outputId": "bdfd1c41-65db-475a-8291-1101333c24c8",
        "colab": {
          "base_uri": "https://localhost:8080/",
          "height": 487
        }
      },
      "execution_count": null,
      "outputs": [
        {
          "output_type": "display_data",
          "data": {
            "text/plain": [
              "<Figure size 640x480 with 1 Axes>"
            ],
            "image/png": "[encoded data removed]"
          },
          "metadata": {}
        }
      ]
    },
    {
      "cell_type": "code",
      "source": [
        "plt.figure(figsize=(8, 6))\n",
        "sns.boxplot(\n",
        "    x='Depression',\n",
        "    y='Academic Pressure',\n",
        "    data=df,\n",
        "    hue='Depression',\n",
        "    palette='Set2',\n",
        "    legend=False\n",
        ")\n",
        "plt.title('Relationship Between Academic Pressure and Depression')\n",
        "plt.xlabel('Depression Diagnosis')\n",
        "plt.ylabel('Academic Pressure Level')\n",
        "plt.show()"
      ],
      "metadata": {
        "id": "JpZR1pl0mv_F",
        "outputId": "0e696f3f-3b75-49ff-f7c6-b149fed452c4",
        "colab": {
          "base_uri": "https://localhost:8080/",
          "height": 564
        }
      },
      "execution_count": null,
      "outputs": [
        {
          "output_type": "display_data",
          "data": {
            "text/plain": [
              "<Figure size 800x600 with 1 Axes>"
            ],
            "image/png": "[encoded data removed]"
          },
          "metadata": {}
        }
      ]
    },
    {
      "cell_type": "markdown",
      "source": [
        "The code creates a box plot showing the relationship between academic pressure and depression diagnosis. It compares the levels of academic pressure for individuals diagnosed with depression versus those not diagnosed. The box plots display the range of academic pressure levels, highlighting the median, quartiles, and outliers for each depression category. The plot is color-coded using the Set2 palette, and the legend is hidden. The title and labels clarify that the plot represents the relationship between academic pressure and depression, with the x-axis showing depression diagnosis categories and the y-axis showing the academic pressure levels."
      ],
      "metadata": {
        "id": "2QOtWnoa3ERO"
      }
    },
    {
      "cell_type": "markdown",
      "source": [
        "Data Preprocessing"
      ],
      "metadata": {
        "id": "krFsDnVBEBBy"
      }
    },
    {
      "cell_type": "markdown",
      "source": [
        "Data Cleaning"
      ],
      "metadata": {
        "id": "T6rNUuF7EMJe"
      }
    },
    {
      "cell_type": "code",
      "source": [
        "#code to find missing values\n",
        "import pandas as pd\n",
        "import numpy as np\n",
        "import matplotlib.pyplot as plt\n",
        "import seaborn as sns\n",
        "df = pd.read_csv('/content/Depression Student Dataset.csv')\n",
        "missing_values=df.isnull().sum()\n",
        "print('**missing values in each columon**')\n",
        "print(missing_values)\n",
        "#check if there is any duplicate row\n",
        "numOfduplicates = df.duplicated().sum()\n",
        "print(\"Number of duplicate rows:\", numOfduplicates)\n",
        "#outliers?\n",
        "print(\"here are the outliers if any:\")\n",
        "for col in df.select_dtypes(include=np.number).columns:\n",
        " Q1 = df[col].quantile(0.25)\n",
        "Q3 = df[col].quantile(0.75)\n",
        "IQR = Q3 - Q1\n",
        "lowerOutlier = Q1 - 1.5 * IQR\n",
        "upperOutlier = Q3 + 1.5 * IQR\n",
        "outliers = df[(df[col] < lowerOutlier) | (df[col] > upperOutlier)]\n",
        "if not outliers.empty:\n",
        "        print(f\"Column: {col}\")\n",
        "        print(outliers[[col]])"
      ],
      "metadata": {
        "colab": {
          "base_uri": "https://localhost:8080/"
        },
        "id": "F0UA0flFDsg2",
        "outputId": "38c8f142-adbd-436f-9653-0eb165e628a9"
      },
      "execution_count": null,
      "outputs": [
        {
          "output_type": "stream",
          "name": "stdout",
          "text": [
            "**missing values in each columon**\n",
            "Gender                                   0\n",
            "Age                                      0\n",
            "Academic Pressure                        0\n",
            "Study Satisfaction                       0\n",
            "Sleep Duration                           0\n",
            "Dietary Habits                           0\n",
            "Have you ever had suicidal thoughts ?    0\n",
            "Study Hours                              0\n",
            "Financial Stress                         0\n",
            "Family History of Mental Illness         0\n",
            "Depression                               0\n",
            "dtype: int64\n",
            "Number of duplicate rows: 0\n",
            "here are the outliers if any:\n"
          ]
        }
      ]
    },
    {
      "cell_type": "markdown",
      "source": [
        "The dataset is well-structured with no missing values or duplicate entries also no outliers which ensures high data quality"
      ],
      "metadata": {
        "id": "kWmrawzNBKUt"
      }
    },
    {
      "cell_type": "code",
      "source": [
        "from sklearn.preprocessing import LabelEncoder\n",
        "from scipy import stats\n",
        "\n",
        "le = LabelEncoder()\n",
        "df['Depression'] = le.fit_transform(df['Depression'])\n",
        "df['Gender'] = le.fit_transform(df['Gender'])\n",
        "df['Sleep Duration'] = le.fit_transform(df['Sleep Duration'])\n",
        "df['Dietary Habits'] = le.fit_transform(df['Dietary Habits'])\n",
        "df['Have you ever had suicidal thoughts ?'] = le.fit_transform(df['Have you ever had suicidal thoughts ?'])\n",
        "df['Family History of Mental Illness'] = le.fit_transform(df['Family History of Mental Illness'])\n",
        "\n",
        "\n",
        "print(df)"
      ],
      "metadata": {
        "colab": {
          "base_uri": "https://localhost:8080/"
        },
        "id": "otCYwHLHEVGv",
        "outputId": "e54f0f91-0296-4be6-e8a9-123daff415fe"
      },
      "execution_count": null,
      "outputs": [
        {
          "output_type": "stream",
          "name": "stdout",
          "text": [
            "     Gender     Age  Academic Pressure  Study Satisfaction  Sleep Duration  \\\n",
            "0         1  0.6250               0.25                0.75               1   \n",
            "1         1  0.6250               0.75                1.00               0   \n",
            "2         1  0.4375               0.00                0.50               0   \n",
            "3         1  0.3125               0.00                0.75               3   \n",
            "4         0  0.8125               0.00                1.00               3   \n",
            "..      ...     ...                ...                 ...             ...   \n",
            "497       1  0.5000               1.00                0.25               3   \n",
            "498       1  0.3750               0.25                0.00               2   \n",
            "499       0  0.3125               0.50                1.00               0   \n",
            "500       1  0.9375               0.75                0.75               3   \n",
            "501       1  0.0000               1.00                0.50               3   \n",
            "\n",
            "     Dietary Habits  Have you ever had suicidal thoughts ?  Study Hours  \\\n",
            "0                 1                                      1     0.750000   \n",
            "1                 0                                      1     0.583333   \n",
            "2                 2                                      1     0.833333   \n",
            "3                 2                                      1     0.583333   \n",
            "4                 0                                      1     0.333333   \n",
            "..              ...                                    ...          ...   \n",
            "497               2                                      0     0.666667   \n",
            "498               2                                      1     0.666667   \n",
            "499               0                                      0     0.083333   \n",
            "500               0                                      0     0.666667   \n",
            "501               2                                      0     0.500000   \n",
            "\n",
            "     Financial Stress  Family History of Mental Illness  Depression  \n",
            "0                0.25                                 1           0  \n",
            "1                0.00                                 1           0  \n",
            "2                0.75                                 0           1  \n",
            "3                0.25                                 1           0  \n",
            "4                0.25                                 1           0  \n",
            "..                ...                               ...         ...  \n",
            "497              0.50                                 0           1  \n",
            "498              1.00                                 0           1  \n",
            "499              1.00                                 1           0  \n",
            "500              0.00                                 1           0  \n",
            "501              0.25                                 1           1  \n",
            "\n",
            "[502 rows x 11 columns]\n"
          ]
        }
      ]
    },
    {
      "cell_type": "markdown",
      "source": [
        "In this code, we applied Label Encoding to several categorical columns in the dataset to convert them into numerical values. Machine learning models typically require numerical inputs, so categorical values (like \"Male\"/\"Female\" or \"Yes\"/\"No\") need to be converted into numbers.\n",
        "\n",
        "for multiple columns (gender , Depression , Sleep Duration , Dietary Habits , Have you ever had suicidal thoughts ? , Family History of Mental Illness )"
      ],
      "metadata": {
        "id": "qqHCMW1FEiU5"
      }
    },
    {
      "cell_type": "code",
      "source": [
        "column_to_discretize = 'Age'\n",
        "num_bins = 3\n",
        "\n",
        "df['Age'] = pd.cut(df[column_to_discretize], bins=num_bins, labels=False)\n",
        "print(df)\n",
        "print(\"Original DataFrame:\")\n",
        "\n"
      ],
      "metadata": {
        "colab": {
          "base_uri": "https://localhost:8080/"
        },
        "id": "fMyoAjfFEjxj",
        "outputId": "7d5658dc-b409-4623-f1eb-293c7e7a206a"
      },
      "execution_count": null,
      "outputs": [
        {
          "output_type": "stream",
          "name": "stdout",
          "text": [
            "     Gender  Age  Academic Pressure  Study Satisfaction  Sleep Duration  \\\n",
            "0         1    1               0.25                0.75               1   \n",
            "1         1    1               0.75                1.00               0   \n",
            "2         1    1               0.00                0.50               0   \n",
            "3         1    0               0.00                0.75               3   \n",
            "4         0    2               0.00                1.00               3   \n",
            "..      ...  ...                ...                 ...             ...   \n",
            "497       1    1               1.00                0.25               3   \n",
            "498       1    1               0.25                0.00               2   \n",
            "499       0    0               0.50                1.00               0   \n",
            "500       1    2               0.75                0.75               3   \n",
            "501       1    0               1.00                0.50               3   \n",
            "\n",
            "     Dietary Habits  Have you ever had suicidal thoughts ?  Study Hours  \\\n",
            "0                 1                                      1     0.750000   \n",
            "1                 0                                      1     0.583333   \n",
            "2                 2                                      1     0.833333   \n",
            "3                 2                                      1     0.583333   \n",
            "4                 0                                      1     0.333333   \n",
            "..              ...                                    ...          ...   \n",
            "497               2                                      0     0.666667   \n",
            "498               2                                      1     0.666667   \n",
            "499               0                                      0     0.083333   \n",
            "500               0                                      0     0.666667   \n",
            "501               2                                      0     0.500000   \n",
            "\n",
            "     Financial Stress  Family History of Mental Illness  Depression  \n",
            "0                0.25                                 1           0  \n",
            "1                0.00                                 1           0  \n",
            "2                0.75                                 0           1  \n",
            "3                0.25                                 1           0  \n",
            "4                0.25                                 1           0  \n",
            "..                ...                               ...         ...  \n",
            "497              0.50                                 0           1  \n",
            "498              1.00                                 0           1  \n",
            "499              1.00                                 1           0  \n",
            "500              0.00                                 1           0  \n",
            "501              0.25                                 1           1  \n",
            "\n",
            "[502 rows x 11 columns]\n",
            "Original DataFrame:\n"
          ]
        }
      ]
    },
    {
      "cell_type": "markdown",
      "source": [
        "In this code, we performed discretization (also known as binning) on the 'Age' column to convert continuous numerical values into categorical bins. This helps in grouping similar values together, making data analysis and modeling more interpretable, especially for algorithms that work better with discrete values.\n"
      ],
      "metadata": {
        "id": "0QI49zE0EnyU"
      }
    },
    {
      "cell_type": "markdown",
      "source": [
        "# Normalization:"
      ],
      "metadata": {
        "id": "Bbitg5cjEvnE"
      }
    },
    {
      "cell_type": "code",
      "source": [
        "from sklearn.preprocessing import MinMaxScaler\n",
        "import pandas as pd\n",
        "\n",
        "# Load your dataset\n",
        "data = pd.read_csv('/content/Depression Student Dataset.csv')\n",
        "df = pd.DataFrame(data)\n",
        "\n",
        "# Extract columns to normalize\n",
        "columns_to_normalize = ['Study Hours', 'Financial Stress', 'Academic Pressure', 'Study Satisfaction']\n",
        "\n",
        "# Min-Max scaling for selected columns\n",
        "minmax_scaler = MinMaxScaler()\n",
        "normalized_data_minmax = minmax_scaler.fit_transform(df[columns_to_normalize])\n",
        "\n",
        "# Replace the normalized values in the original DataFrame\n",
        "df[columns_to_normalize] = normalized_data_minmax\n",
        "\n",
        "# Display the Min-Max scaled data\n",
        "print(\"Min-Max scaled data (selected columns):\")\n",
        "print(df[columns_to_normalize].head())\n"
      ],
      "metadata": {
        "id": "j_WC50zyE0XC",
        "outputId": "0c5b6dc1-15f4-4172-ce0e-3974c9248495",
        "colab": {
          "base_uri": "https://localhost:8080/"
        }
      },
      "execution_count": null,
      "outputs": [
        {
          "output_type": "stream",
          "name": "stdout",
          "text": [
            "Min-Max scaled data (selected columns):\n",
            "   Study Hours  Financial Stress  Academic Pressure  Study Satisfaction\n",
            "0     0.750000              0.25               0.25                0.75\n",
            "1     0.583333              0.00               0.75                1.00\n",
            "2     0.833333              0.75               0.00                0.50\n",
            "3     0.583333              0.25               0.00                0.75\n",
            "4     0.333333              0.25               0.00                1.00\n"
          ]
        }
      ]
    },
    {
      "cell_type": "markdown",
      "source": [
        "Normalization Process:\n",
        "\n",
        "Min-Max Scaling was applied to the numerical features in the dataset such as  'Study Hours', 'Financial Stress', 'Academic Pressure', and 'Study Satisfaction', scaling the values to a range between 0 and 1.\n",
        "\n",
        "Why Min-Max Scaling:\n",
        "\n",
        "Min-Max Scaling ensures that all numerical features are on the same scale, which is important for models that rely on distance calculations. It also prevents features with larger ranges from dominating the model. This method is simple, efficient, and effective .\n",
        "\n"
      ],
      "metadata": {
        "id": "n3AusZb2Oa4s"
      }
    },
    {
      "cell_type": "markdown",
      "source": [
        "# 1.Chi squared"
      ],
      "metadata": {
        "id": "AFG2KF7Y9zf0"
      }
    },
    {
      "cell_type": "code",
      "source": [
        "import pandas as pd\n",
        "from scipy.stats import chi2_contingency\n",
        "df = pd.read_csv('/content/Depression Student Dataset.csv')\n",
        "contingency_table = pd.crosstab(df['Have you ever had suicidal thoughts ?'], df['Depression'])\n",
        "print(\"Contingency Table:\")\n",
        "print(contingency_table)\n",
        "chi2_stat, p_value, dof, expected = chi2_contingency(contingency_table)\n",
        "print(\"\\nChi-Square Statistic:\", chi2_stat)\n",
        "print(\"Degrees of Freedom:\", dof)\n",
        "print(\"Expected Frequencies:\")\n",
        "print(expected)"
      ],
      "metadata": {
        "id": "49zP6Csn72qT",
        "outputId": "8becadee-aaf7-47d0-9d50-c248099c2ad3",
        "colab": {
          "base_uri": "https://localhost:8080/"
        }
      },
      "execution_count": null,
      "outputs": [
        {
          "output_type": "stream",
          "name": "stdout",
          "text": [
            "Contingency Table:\n",
            "Depression                              No  Yes\n",
            "Have you ever had suicidal thoughts ?          \n",
            "No                                     179   63\n",
            "Yes                                     71  189\n",
            "\n",
            "Chi-Square Statistic: 107.29249523153612\n",
            "Degrees of Freedom: 1\n",
            "Expected Frequencies:\n",
            "[[120.51792829 121.48207171]\n",
            " [129.48207171 130.51792829]]\n"
          ]
        }
      ]
    },
    {
      "cell_type": "markdown",
      "source": [
        "Chi-square test statistic indicates that suicidal thoughts are strongly associated with depression in our dataset, meaning that the people who report having suicidal thoughts are much more likely to report depression than those who don't.\n",
        "\n",
        "\n",
        "\n",
        "\n",
        "\n",
        "\n",
        "\n"
      ],
      "metadata": {
        "id": "dFtXeSJy-lSZ"
      }
    },
    {
      "cell_type": "markdown",
      "source": [
        "# 2. Correlation Coefficient"
      ],
      "metadata": {
        "id": "4qW5Ixum0vp7"
      }
    },
    {
      "cell_type": "code",
      "source": [
        "import pandas as pd\n",
        "import numpy as np\n",
        "column1 = 'Study Hours'\n",
        "column2 = 'Study Satisfaction'\n",
        "data_column1 = df[column1]\n",
        "data_column2 = df[column2]\n",
        "correlation_coefficient = np.corrcoef(data_column1, data_column2)[0, 1]\n",
        "\n",
        "print(f\"Correlation coefficient between {column1} and {column2}: {correlation_coefficient}\")"
      ],
      "metadata": {
        "id": "l5rT_ySQzsIk",
        "outputId": "4e162fb2-4cd1-4ecb-e0e6-eaf17497daf0",
        "colab": {
          "base_uri": "https://localhost:8080/"
        }
      },
      "execution_count": null,
      "outputs": [
        {
          "output_type": "stream",
          "name": "stdout",
          "text": [
            "Correlation coefficient between Study Hours and Study Satisfaction: -0.01412162463666014\n"
          ]
        }
      ]
    },
    {
      "cell_type": "markdown",
      "source": [
        "Description: Calculating the Correlation Between Study Hours and Study Satisfaction\n",
        "In this code, we calculated the correlation coefficient between two variables:\n",
        "\n",
        "Study Hours (Study Hours)\n",
        "Study Satisfaction (Study Satisfaction)\n",
        "\n",
        "Calculated Value: -0.0141\n",
        " What This Means:\n",
        "\n",
        "The value is very close to zero, indicating no clear relationship between Study Hours and Study Satisfaction.\n",
        "The negative sign (-) suggests a very weak inverse relationship, but it is statistically insignificant.\n",
        "This means increasing or decreasing study hours does not significantly impact student satisfaction."
      ],
      "metadata": {
        "id": "gj7gF4Me04f1"
      }
    },
    {
      "cell_type": "code",
      "source": [
        "import pandas as pd\n",
        "from sklearn.preprocessing import LabelEncoder\n",
        "from sklearn.feature_selection import SelectKBest, f_classif\n",
        "\n",
        "# Load the dataset\n",
        "data = pd.read_csv('/content/Depression Student Dataset.csv')\n",
        "\n",
        "# Define the target column\n",
        "target_column = \"Depression\"\n",
        "\n",
        "# Define categorical and numerical features\n",
        "categorical_features = [\"Gender\", \"Dietary Habits\", \"Have you ever had suicidal thoughts ?\", \"Family History of Mental Illness\"]\n",
        "numerical_features = [\"Age\", \"Academic Pressure\", \"Study Satisfaction\", \"Study Hours\", \"Financial Stress\"]\n",
        "\n",
        "# Convert \"Sleep Duration\" from categorical to numerical values\n",
        "sleep_mapping = {\n",
        "    \"Less than 5 hours\": 1,\n",
        "    \"5-6 hours\": 2,\n",
        "    \"7-8 hours\": 3,\n",
        "    \"More than 8 hours\": 4\n",
        "}\n",
        "data[\"Sleep Duration\"] = data[\"Sleep Duration\"].map(sleep_mapping)\n",
        "numerical_features.append(\"Sleep Duration\")\n",
        "\n",
        "# Encode categorical features using LabelEncoder\n",
        "label_encoders = {}\n",
        "for col in categorical_features:\n",
        "    le = LabelEncoder()\n",
        "    data[col] = le.fit_transform(data[col])\n",
        "    label_encoders[col] = le  # Store encoders for potential inverse transformation\n",
        "\n",
        "# Combine all processed features\n",
        "all_features = numerical_features + categorical_features\n",
        "\n",
        "# Apply SelectKBest with f_classif to select important features\n",
        "X = data[all_features]\n",
        "y = data[target_column]\n",
        "selector = SelectKBest(score_func=f_classif, k=5)  # Selecting top 5 features\n",
        "X_new = selector.fit_transform(X, y)\n",
        "\n",
        "# Extract selected features\n",
        "selected_features = [feature for feature, selected in zip(all_features, selector.get_support()) if selected]\n",
        "\n",
        "# Display the selected features\n",
        "print(\"Selected Features using f_classif (F-Test):\")\n",
        "print(selected_features)\n"
      ],
      "metadata": {
        "id": "471E6RWxCkjY",
        "outputId": "b7227379-7942-41b3-8013-fc532c200c51",
        "colab": {
          "base_uri": "https://localhost:8080/"
        }
      },
      "execution_count": null,
      "outputs": [
        {
          "output_type": "stream",
          "name": "stdout",
          "text": [
            "Selected Features using f_classif (F-Test):\n",
            "['Age', 'Academic Pressure', 'Study Satisfaction', 'Financial Stress', 'Have you ever had suicidal thoughts ?']\n"
          ]
        }
      ]
    },
    {
      "cell_type": "markdown",
      "source": [
        "Explanation: Feature Selection\n",
        "\n",
        "Selected Features:\n",
        "The features selected to predict depression are:\n",
        "\n",
        ".Academic Pressure\n",
        "\n",
        ".Study Satisfaction\n",
        "\n",
        ".Sleep Duration\n",
        "\n",
        ".Have you ever had suicidal thoughts?\n",
        "\n",
        ".Financial Stress\n",
        "\n",
        "These features are statistically significant and have a strong relationship with the target variable (Depression).\n",
        "\n"
      ],
      "metadata": {
        "id": "sopkgliKDUC_"
      }
    },
    {
      "cell_type": "markdown",
      "source": [
        "Why This Method is Suitable:\n",
        "\n",
        "1.Efficiency:\n",
        "\n",
        "The Filter Method using SelectKBest is computationally efficient, as it evaluates each feature independently, saving time and computational resources.\n",
        "\n",
        "2.Statistical Relevance:\n",
        "\n",
        "This method selects features based on their statistical importance to the target variable (Depression), ensuring that only the most relevant features are retained.\n",
        "\n",
        "3.Dimensionality Reduction:\n",
        "\n",
        "Selecting the top 5 features reduces the complexity of the dataset, helping to improve the analysis and reducing the risk of overfitting in future models.\n",
        "\n",
        "4.Interpretability:\n",
        "\n",
        "The selected features highlight the key factors contributing to depression, making it easier to understand the dataset and draw meaningful insights.\n",
        "\n"
      ],
      "metadata": {
        "id": "q3V1UzGaD_Ee"
      }
    },
    {
      "cell_type": "markdown",
      "source": [
        "Feature Selection Process:\n",
        "\n",
        "1.Categorical Encoding:\n",
        "\n",
        "All categorical features (e.g., Gender, Dietary Habits) were converted into numerical values using LabelEncoder. This ensures compatibility with the feature selection process.\n",
        "\n",
        "2.Transforming Text Features:\n",
        "\n",
        "The \"Sleep Duration\" feature, originally containing text values, was mapped to numerical values (e.g., \"Less than 5 hours\" → 1, \"More than 8 hours\" → 4) for proper processing.\n",
        "\n",
        "3.Feature Scoring and Selection:\n",
        "\n",
        "The SelectKBest method with f_classif (F-Test) was applied to score all features based on their statistical significance to the target variable. The top 5 features with the highest scores were selected.\n",
        "\n",
        "4.Final Output:\n",
        "\n",
        "The selected features were displayed, ensuring that only the most important ones were retained for further analysis.\n",
        "\n"
      ],
      "metadata": {
        "id": "cRRsVXeBETzF"
      }
    }
  ]
}