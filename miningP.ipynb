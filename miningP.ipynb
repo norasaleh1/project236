{
  "nbformat": 4,
  "nbformat_minor": 0,
  "metadata": {
    "colab": {
      "provenance": [],
      "authorship_tag": "ABX9TyN9pOJyxocZgMhdzboamQ/Q",
      "include_colab_link": true
    },
    "kernelspec": {
      "name": "python3",
      "display_name": "Python 3"
    },
    "language_info": {
      "name": "python"
    }
  },
  "cells": [
    {
      "cell_type": "markdown",
      "metadata": {
        "id": "view-in-github",
        "colab_type": "text"
      },
      "source": [
        "<a href=\"https://colab.research.google.com/github/norasaleh1/project236/blob/main/miningP.ipynb\" target=\"_parent\"><img src=\"https://colab.research.google.com/assets/colab-badge.svg\" alt=\"Open In Colab\"/></a>"
      ]
    },
    {
      "cell_type": "code",
      "execution_count": null,
      "metadata": {
        "id": "5h0O03FQ4z7g"
      },
      "outputs": [],
      "source": []
    },
    {
      "cell_type": "markdown",
      "source": [
        "our goal is to predict whether a student is at risk of depression based in factors such as dietary habits, academic pressure, sleep duration and more."
      ],
      "metadata": {
        "id": "dF_qcrxY44IQ"
      }
    },
    {
      "cell_type": "markdown",
      "source": [
        "the link to our dataset's source: https://www.kaggle.com/datasets/ikynahidwin/depression-student-dataset\n"
      ],
      "metadata": {
        "id": "dinUJfmvEXmo"
      }
    },
    {
      "cell_type": "markdown",
      "source": [
        "In our dataset we have 11 different\n",
        "attributes and 502 objects (entries),\n",
        "where type of attributes are:\n",
        "(Gender) binary\n",
        "(Age) numeric\n",
        "(Academic Pressure) numeric\n",
        "(Study satisfaction) numeric\n",
        "(Sleep Duration) nominal\n",
        "(Dietary Habits) nominal\n",
        "(Have you ever had suicidal thoughts ?)binary\n",
        "(Study Hours) numeric\n",
        "(Financial Stress\t)numeric\n",
        "(Family History of Mental Illness\t)binary\n",
        "(Depression)binary\n",
        "and we have the attribute Depression as our class label\n",
        "\n"
      ],
      "metadata": {
        "id": "jwP5Z3jYEqWT"
      }
    },
    {
      "cell_type": "code",
      "source": [
        "\n",
        "import os\n",
        "os.getcwd()\n",
        "\n"
      ],
      "metadata": {
        "colab": {
          "base_uri": "https://localhost:8080/"
        },
        "id": "AS70bI1n2AgW",
        "outputId": "6ca6eafb-35c8-4381-ec96-7400c649cc3c"
      },
      "execution_count": 17,
      "outputs": [
        {
          "output_type": "stream",
          "name": "stdout",
          "text": [
            "\n"
          ]
        }
      ]
    },
    {
      "cell_type": "code",
      "source": [
        "import pandas as pd\n",
        "df = pd.read_csv('/content/Depression.Student.Dataset.csv')\n",
        "print(df)"
      ],
      "metadata": {
        "colab": {
          "base_uri": "https://localhost:8080/"
        },
        "id": "0_fy2dzk6f3F",
        "outputId": "78a10580-d0fd-4ff2-ee31-f92bd477aa20"
      },
      "execution_count": 19,
      "outputs": [
        {
          "output_type": "stream",
          "name": "stdout",
          "text": [
            "     Gender  Age  Academic Pressure  Study Satisfaction     Sleep Duration  \\\n",
            "0      Male   28                2.0                 4.0          7-8 hours   \n",
            "1      Male   28                4.0                 5.0          5-6 hours   \n",
            "2      Male   25                1.0                 3.0          5-6 hours   \n",
            "3      Male   23                1.0                 4.0  More than 8 hours   \n",
            "4    Female   31                1.0                 5.0  More than 8 hours   \n",
            "..      ...  ...                ...                 ...                ...   \n",
            "497    Male   26                5.0                 2.0  More than 8 hours   \n",
            "498    Male   24                2.0                 1.0  Less than 5 hours   \n",
            "499  Female   23                3.0                 5.0          5-6 hours   \n",
            "500    Male   33                4.0                 4.0  More than 8 hours   \n",
            "501    Male   18                5.0                 3.0  More than 8 hours   \n",
            "\n",
            "    Dietary Habits Have you ever had suicidal thoughts ?  Study Hours  \\\n",
            "0         Moderate                                   Yes            9   \n",
            "1          Healthy                                   Yes            7   \n",
            "2        Unhealthy                                   Yes           10   \n",
            "3        Unhealthy                                   Yes            7   \n",
            "4          Healthy                                   Yes            4   \n",
            "..             ...                                   ...          ...   \n",
            "497      Unhealthy                                    No            8   \n",
            "498      Unhealthy                                   Yes            8   \n",
            "499        Healthy                                    No            1   \n",
            "500        Healthy                                    No            8   \n",
            "501      Unhealthy                                    No            6   \n",
            "\n",
            "     Financial Stress Family History of Mental Illness Depression  \n",
            "0                   2                              Yes         No  \n",
            "1                   1                              Yes         No  \n",
            "2                   4                               No        Yes  \n",
            "3                   2                              Yes         No  \n",
            "4                   2                              Yes         No  \n",
            "..                ...                              ...        ...  \n",
            "497                 3                               No        Yes  \n",
            "498                 5                               No        Yes  \n",
            "499                 5                              Yes         No  \n",
            "500                 1                              Yes         No  \n",
            "501                 2                              Yes        Yes  \n",
            "\n",
            "[502 rows x 11 columns]\n"
          ]
        }
      ]
    }
  ]
}
